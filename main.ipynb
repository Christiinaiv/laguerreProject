{
 "cells": [
  {
   "cell_type": "code",
   "execution_count": 153,
   "metadata": {
    "editable": true,
    "slideshow": {
     "slide_type": ""
    },
    "tags": []
   },
   "outputs": [],
   "source": [
    "import numpy as np\n",
    "import pandas as pd\n",
    "import sympy as sp\n",
    "import unittest\n",
    "import matplotlib.pyplot as plt\n",
    "import ipywidgets as widgets"
   ]
  },
  {
   "cell_type": "code",
   "execution_count": 154,
   "metadata": {},
   "outputs": [],
   "source": [
    "class Laguerre:\n",
    "    def __init__(self, T, N, beta, sigma, epsilon, t_values):\n",
    "        self.T = T\n",
    "        self.N = N\n",
    "        self.beta = beta\n",
    "        self.sigma = sigma\n",
    "        self.epsilon = epsilon\n",
    "        self.t_values = t_values\n",
    "        self.alpha = self.sigma - self.beta\n",
    "    \n",
    "    \n",
    "    @property\n",
    "    def T(self):\n",
    "        return self._T\n",
    "    @T.setter\n",
    "    def T(self, T):\n",
    "        self._T = T\n",
    "        \n",
    "    @property\n",
    "    def N(self):\n",
    "        return self._N\n",
    "    @N.setter\n",
    "    def N(self, N):\n",
    "        self._N = N\n",
    "               \n",
    "    @property\n",
    "    def beta(self):\n",
    "        return self._beta\n",
    "    @beta.setter\n",
    "    def beta(self, beta):\n",
    "        self._beta = beta\n",
    "        \n",
    "    @property\n",
    "    def sigma(self):\n",
    "        return self._sigma\n",
    "    @sigma.setter\n",
    "    def sigma(self, sigma):\n",
    "        self._sigma = sigma        \n",
    "        \n",
    "    @property\n",
    "    def epsilon(self):\n",
    "        return self._epsilon\n",
    "    @epsilon.setter\n",
    "    def epsilon(self, epsilon):\n",
    "        self._epsilon = epsilon\n",
    "          \n",
    "    @property\n",
    "    def t_values(self):\n",
    "        return self._t_values\n",
    "    @t_values.setter\n",
    "    def t_values(self, t_values):\n",
    "        self._t_values = t_values\n",
    "        \n",
    "    def laguerre(self, n, t):\n",
    "        if (self.beta>=0) and (self.beta<=self.sigma):\n",
    "            if n==0:\n",
    "                return np.sqrt(self.sigma)*np.exp((-self.beta*t)/2)\n",
    "            elif n==1:\n",
    "                return np.sqrt(self.sigma)*(1-self.sigma*t)*np.exp((-self.beta*t)/2)\n",
    "            else:\n",
    "                l0=np.sqrt(self.sigma)*np.exp((-self.beta*t)/2)\n",
    "                l1=np.sqrt(self.sigma)*(1-self.sigma*t)*np.exp((-self.beta*t)/2)\n",
    "                for i in range(2, n+1):\n",
    "                    li=((2*i-1-self.sigma*t)/i)*l1 - ((i-1)/i)*l0\n",
    "                    l0, l1 = l1, li\n",
    "                return li\n",
    "\n",
    "        else:\n",
    "            raise ValueError(\"Wrong data input! Beta should be in range [0;sigma]!\")\n",
    "        \n",
    "    \n",
    "    def tabulate_laguerre(self): \n",
    "        laguerre_val = {\"t_val\": self.t_values}  \n",
    "        for n in range(self.N + 1):\n",
    "            laguerre_val[f\"L_{n}\"] = [self.laguerre(n, t) for t in self.t_values]\n",
    "        \n",
    "        return pd.DataFrame(laguerre_val)\n",
    "    \n",
    "        \n",
    "    def find_t_epsilon(self, n, epsilon=1e-3, max_T=100, steps=1000):\n",
    "        t_values = np.linspace(0, max_T, steps)\n",
    "        for t in t_values:\n",
    "            if all(np.abs(self.laguerre(i, t)) < epsilon for i in range(n)):\n",
    "                return t\n",
    "        raise ValueError(\"No value t\")"
   ]
  },
  {
   "cell_type": "code",
   "execution_count": 155,
   "metadata": {},
   "outputs": [],
   "source": [
    "class Integrate(Laguerre):\n",
    "    def __init__(self, laguerre_object, max_steps=10000):\n",
    "        super().__init__(laguerre_object.T, laguerre_object.N, laguerre_object.beta, laguerre_object.sigma, laguerre_object.epsilon, laguerre_object.t_values)\n",
    "        self.max_steps = max_steps\n",
    "\n",
    "    def rect_integrate_laguerre(self, n, f):\n",
    "        \"\"\"Інтегрування методом прямокутників\"\"\"\n",
    "        if not callable(f):\n",
    "            raise ValueError(\"Provided function 'f' is not callable.\")\n",
    "      \n",
    "        steps = 1\n",
    "        prev_integral = 0\n",
    "        error = float(\"inf\")\n",
    "        \n",
    "        while error > self.epsilon and steps <= self.max_steps:\n",
    "            t_vals = np.linspace(0, self.T, steps + 1)\n",
    "            delta_t = self.T / steps\n",
    "            \n",
    "            laguerre_values = np.array([self.laguerre(n, t) for t in t_vals])\n",
    "            func_to_integr = f(t_vals) * laguerre_values * np.exp(-self.alpha * t_vals)\n",
    "           \n",
    "            integral = np.sum(func_to_integr * delta_t)\n",
    "            \n",
    "            error = abs(integral - prev_integral)\n",
    "            prev_integral = integral\n",
    "            \n",
    "            steps *= 2\n",
    "\n",
    "        return prev_integral\n",
    "    \n",
    "    def trapez_integrate_laguerre(self, n, f):\n",
    "        \"\"\"Інтегрування методом трапецій\"\"\"\n",
    "        if not callable(f):\n",
    "            raise ValueError(\"Provided function 'f' is not callable.\")\n",
    "      \n",
    "        steps = 1\n",
    "        prev_integral = 0\n",
    "        error = float(\"inf\")\n",
    "        \n",
    "        while error > self.epsilon and steps <= self.max_steps:\n",
    "\n",
    "            t_vals = np.linspace(0, self.T, steps + 1)\n",
    "            delta_t = self.T / steps\n",
    "            \n",
    "            laguerre_values = np.array([self.laguerre(n, t) for t in t_vals])\n",
    "            func_to_integr = f(t_vals) * laguerre_values * np.exp(-self.alpha * t_vals)\n",
    "            \n",
    "            integral = delta_t * (0.5 * func_to_integr[0] + 0.5 * func_to_integr[-1] + np.sum(func_to_integr[1:-1]))\n",
    "            \n",
    "            error = abs(integral - prev_integral)\n",
    "            prev_integral = integral\n",
    "            \n",
    "            steps *= 2\n",
    "\n",
    "        return prev_integral\n"
   ]
  },
  {
   "cell_type": "code",
   "execution_count": 156,
   "metadata": {},
   "outputs": [],
   "source": [
    "class ReverseLaguerre(Laguerre):\n",
    "    def __init__(self, laguerre_object, coefficients):\n",
    "        super().__init__(laguerre_object.T, laguerre_object.N, laguerre_object.beta, laguerre_object.sigma, laguerre_object.epsilon, laguerre_object.t_values)\n",
    "        self.coefficients = coefficients\n",
    "\n",
    "    @property\n",
    "    def coefficients(self):\n",
    "        return self._coefficients\n",
    "\n",
    "    @coefficients.setter\n",
    "    def coefficients(self, coefficients):\n",
    "        self._coefficients = coefficients\n",
    "\n",
    "    def reverse_laguerre(self, integr_obj, t):\n",
    "        result = 0\n",
    "        if len(self.coefficients) == 0:\n",
    "            raise ValueError(\"Arrange is empty\")\n",
    "        for k in range(len(self.coefficients)):\n",
    "            result += self.coefficients[k] * integr_obj.rect_integrate_laguerre(k, t)\n",
    "        return result\n",
    "    \n",
    "    def laguerre_coefficients(self,integr_obj, f):\n",
    "        coeffs = []\n",
    "        for k in range(len(self.coefficients)):\n",
    "            coeff =  integr_obj.rect_integrate_laguerre(k, f)\n",
    "            coeffs.append(coeff)\n",
    "        coefficients = coeffs\n",
    "\n",
    "    def conditional_func(self, laguerre_obj, t_values=None):\n",
    "        if t_values is None:\n",
    "            t_values = np.linspace(0, self.T, 100)\n",
    "        return np.array([self.reverse_laguerre(laguerre_obj, t) for t in t_values])"
   ]
  },
  {
   "cell_type": "code",
   "execution_count": 157,
   "metadata": {},
   "outputs": [],
   "source": [
    "class TestLaguerre(unittest.TestCase):\n",
    "\tdef setUp(self):\n",
    "\t\tself.laguerre_object = Laguerre(10,20,-1,40,10e3,[1,2,3,4])\n",
    "\t\tself.integral = Integrate(self.laguerre_object, 0)\n",
    "\t\tself.reversed_values = ReverseLaguerre(self.laguerre_object, [])\n",
    "\n",
    "\tdef test_laguerre_main_function(self):\n",
    "\t\twith self.assertRaises(ValueError):\n",
    "\t\t\t\"\"\"Test with incorrect beta\"\"\"\n",
    "\t\t\tself.laguerre_object.laguerre(1,3)\n",
    "\n",
    "\tdef test_laguerre_rec_function(self):\n",
    "\t\t\"\"\"Not callable function (string type)\"\"\"\n",
    "\t\tself.laguerre_object.beta = 10\n",
    "\t\twith self.assertRaises(ValueError):\n",
    "\t\t\tself.integral.rect_integrate_laguerre(10, \"np.sin\")\n",
    "\n",
    "\tdef test_laguerre_trapez_function(self):\n",
    "\t\t\"\"\"Not callable function (string type)\"\"\"\n",
    "\t\twith self.assertRaises(ValueError):\n",
    "\t\t\tself.integral.rect_integrate_laguerre(10, \"np.sin\")\n",
    "\n",
    "\tdef test_laguerre_revers_coffs(self):\n",
    "\t\t\"\"\"Empty list of coefficients\"\"\"\n",
    "\t\twith self.assertRaises(ValueError):\n",
    "\t\t\tself.reversed_values.reverse_laguerre(self.integral, 10)\n",
    "\n",
    "\tdef test_is_equel_integrals(self):\n",
    "\t\tval1 = self.integral.rect_integrate_laguerre(10, np.sin)\n",
    "\t\tval2 = self.integral.trapez_integrate_laguerre(10, np.sin)\n",
    "\t\tself.assertEqual(val1, val2)\n"
   ]
  },
  {
   "cell_type": "code",
   "execution_count": 158,
   "metadata": {},
   "outputs": [
    {
     "name": "stderr",
     "output_type": "stream",
     "text": [
      ".....\n",
      "----------------------------------------------------------------------\n",
      "Ran 5 tests in 0.002s\n",
      "\n",
      "OK\n"
     ]
    },
    {
     "data": {
      "text/plain": [
       "<unittest.main.TestProgram at 0x15d2bce74a0>"
      ]
     },
     "execution_count": 158,
     "metadata": {},
     "output_type": "execute_result"
    }
   ],
   "source": [
    "unittest.main(argv=[''], exit=False)"
   ]
  },
  {
   "cell_type": "code",
   "execution_count": 159,
   "metadata": {},
   "outputs": [],
   "source": [
    "class Visualization:\n",
    "    @staticmethod\n",
    "    def plot_laguerre(laguerre_obj, n, t):\n",
    "        t_values = np.linspace(0, t, 100)\n",
    "        y_values = [laguerre_obj.laguerre(n, t_i) for t_i in t_values]\n",
    "        \n",
    "        plt.figure(figsize=(8, 5))\n",
    "        plt.plot(t_values, y_values, label=f'L_{n}(t)')\n",
    "        plt.xlabel('t')\n",
    "        plt.ylabel(f'L_{n}(t)')\n",
    "        plt.title('Laguerre Polynomial')\n",
    "        plt.legend()\n",
    "        plt.grid()\n",
    "        plt.show()\n",
    "    \n",
    "    @staticmethod\n",
    "    def tabulate_laguere(laguerre_obj, n, T, steps=100):\n",
    "        t_values = np.linspace(0, T, steps)\n",
    "        results = {f'L_{i}': [laguerre_obj.laguerre(i, t) for t in t_values] for i in range(n)}\n",
    "        results['t'] = t_values\n",
    "        df = pd.DataFrame(results)\n",
    "        display(df)\n",
    "    \n",
    "    @staticmethod\n",
    "    def epsilon_vis(laguerre_obj, n):\n",
    "        return laguerre_obj.find_t_epsilon(n)\n",
    "\n",
    "    \n",
    "    @staticmethod\n",
    "    def integrate_vis(integrate_obj, n, f):\n",
    "        integrate_obj.rect_integrate_laguerre(n, f)\n",
    "    \n",
    "    @staticmethod\n",
    "    def coef_vis(reverse_obj, integrate_obj, f):\n",
    "        reverse_obj.laguerre_coefficients(integrate_obj, f)\n",
    "    \n",
    "    @staticmethod\n",
    "    def reverse_plot(reverse_obj, integrate_obj, t):\n",
    "        reverse_obj.reverse_laguerre(integrate_obj, t)\n",
    "    \n",
    "    @staticmethod\n",
    "    def output(laguerre_obj, integrate_obj, reverse_obj):\n",
    "        dropdown = widgets.Dropdown(\n",
    "            options=['plot_laguerre', 'tabulate_laguere', 'epsilon_vis', 'integrate_vis', 'coef_vis', 'reverse_plot'],\n",
    "            description='Виберіть дію:',\n",
    "        )\n",
    "\n",
    "        output_area = widgets.Output()\n",
    "        f_input = widgets.Text(value=\"lambda t: t**2\", description=\"Функція:\")\n",
    "        n_slider = widgets.IntSlider(value=3, min=1, max=10, description=\"n:\")\n",
    "        t_slider = widgets.FloatSlider(value=5, min=0, max=20, description=\"t:\")\n",
    "\n",
    "        def update_plot(change=None):\n",
    "            output_area.clear_output()\n",
    "            f = eval(f_input.value)\n",
    "            with output_area:\n",
    "                match dropdown.value:\n",
    "                    case \"plot_laguerre\":\n",
    "                        Visualization.plot_laguerre(laguerre_obj, n_slider.value, t_slider.value)\n",
    "                    case \"tabulate_laguere\":\n",
    "                        Visualization.tabulate_laguere(laguerre_obj, n_slider.value, t_slider.value)\n",
    "                    case \"epsilon_vis\":\n",
    "                        print(Visualization.epsilon_vis(laguerre_obj, n_slider.value))\n",
    "                    case \"integrate_vis\":\n",
    "                        print(Visualization.integrate_vis(integrate_obj, n_slider.value, f))\n",
    "                    case \"coef_vis\":\n",
    "                        print(Visualization.coef_vis(reverse_obj, integrate_obj, f))\n",
    "                    case \"reverse_plot\":\n",
    "                        Visualization.reverse_plot(reverse_obj, integrate_obj, t_slider.value)\n",
    "                    case _:\n",
    "                        print(\"Choose option!\")\n",
    "\n",
    "\n",
    "        dropdown.observe(update_plot, names='value')\n",
    "        n_slider.observe(update_plot, names='value')\n",
    "        t_slider.observe(update_plot, names='value')\n",
    "        f_input.observe(update_plot, names='value')\n",
    "\n",
    "        display(f_input, n_slider, t_slider, dropdown, output_area)\n",
    "\n"
   ]
  },
  {
   "cell_type": "code",
   "execution_count": 160,
   "metadata": {},
   "outputs": [],
   "source": [
    "f_input = widgets.Text(description = 'Enter function')\n",
    "n_slider = widgets.IntSlider(min=1, max=10, step=1, value=3, description='n:')\n",
    "t_slider = widgets.FloatSlider(min=0.1, max=20, step=0.1, value=10, description='t:')"
   ]
  },
  {
   "cell_type": "code",
   "execution_count": 161,
   "metadata": {},
   "outputs": [],
   "source": [
    "laguerre_object = Laguerre(t_slider.value,n_slider.value,2,40,10e3,[110,220,350,13900])\n",
    "integral = Integrate(laguerre_object)\n",
    "reversed_values = ReverseLaguerre(laguerre_object, [])"
   ]
  },
  {
   "cell_type": "code",
   "execution_count": 162,
   "metadata": {},
   "outputs": [
    {
     "data": {
      "application/vnd.jupyter.widget-view+json": {
       "model_id": "f36ac1ddca6c42b2b8d61aaabe905e5e",
       "version_major": 2,
       "version_minor": 0
      },
      "text/plain": [
       "Text(value='lambda t: t**2', description='Функція:')"
      ]
     },
     "metadata": {},
     "output_type": "display_data"
    },
    {
     "data": {
      "application/vnd.jupyter.widget-view+json": {
       "model_id": "72e2b15381204d15a6ddfd08bbf4cd23",
       "version_major": 2,
       "version_minor": 0
      },
      "text/plain": [
       "IntSlider(value=3, description='n:', max=10, min=1)"
      ]
     },
     "metadata": {},
     "output_type": "display_data"
    },
    {
     "data": {
      "application/vnd.jupyter.widget-view+json": {
       "model_id": "ed36c4b668c9422986308c90ec71366d",
       "version_major": 2,
       "version_minor": 0
      },
      "text/plain": [
       "FloatSlider(value=5.0, description='t:', max=20.0)"
      ]
     },
     "metadata": {},
     "output_type": "display_data"
    },
    {
     "data": {
      "application/vnd.jupyter.widget-view+json": {
       "model_id": "44c22940bdc049a4b84b8cbdeaa3ae01",
       "version_major": 2,
       "version_minor": 0
      },
      "text/plain": [
       "Dropdown(description='Виберіть дію:', options=('plot_laguerre', 'tabulate_laguere', 'epsilon_vis', 'integrate_…"
      ]
     },
     "metadata": {},
     "output_type": "display_data"
    },
    {
     "data": {
      "application/vnd.jupyter.widget-view+json": {
       "model_id": "e3903f1a24774d68946b663951d9a41c",
       "version_major": 2,
       "version_minor": 0
      },
      "text/plain": [
       "Output()"
      ]
     },
     "metadata": {},
     "output_type": "display_data"
    },
    {
     "ename": "NameError",
     "evalue": "name 'x' is not defined",
     "output_type": "error",
     "traceback": [
      "\u001b[1;31m---------------------------------------------------------------------------\u001b[0m",
      "\u001b[1;31mNameError\u001b[0m                                 Traceback (most recent call last)",
      "File \u001b[1;32mc:\\Users\\olerk\\AppData\\Local\\Programs\\Python\\Python312\\Lib\\site-packages\\ipywidgets\\widgets\\widget.py:773\u001b[0m, in \u001b[0;36mWidget._handle_msg\u001b[1;34m(self, msg)\u001b[0m\n\u001b[0;32m    771\u001b[0m         \u001b[38;5;28;01mif\u001b[39;00m \u001b[38;5;124m'\u001b[39m\u001b[38;5;124mbuffer_paths\u001b[39m\u001b[38;5;124m'\u001b[39m \u001b[38;5;129;01min\u001b[39;00m data:\n\u001b[0;32m    772\u001b[0m             _put_buffers(state, data[\u001b[38;5;124m'\u001b[39m\u001b[38;5;124mbuffer_paths\u001b[39m\u001b[38;5;124m'\u001b[39m], msg[\u001b[38;5;124m'\u001b[39m\u001b[38;5;124mbuffers\u001b[39m\u001b[38;5;124m'\u001b[39m])\n\u001b[1;32m--> 773\u001b[0m         \u001b[38;5;28;43mself\u001b[39;49m\u001b[38;5;241;43m.\u001b[39;49m\u001b[43mset_state\u001b[49m\u001b[43m(\u001b[49m\u001b[43mstate\u001b[49m\u001b[43m)\u001b[49m\n\u001b[0;32m    775\u001b[0m \u001b[38;5;66;03m# Handle a state request.\u001b[39;00m\n\u001b[0;32m    776\u001b[0m \u001b[38;5;28;01melif\u001b[39;00m method \u001b[38;5;241m==\u001b[39m \u001b[38;5;124m'\u001b[39m\u001b[38;5;124mrequest_state\u001b[39m\u001b[38;5;124m'\u001b[39m:\n",
      "File \u001b[1;32mc:\\Users\\olerk\\AppData\\Local\\Programs\\Python\\Python312\\Lib\\site-packages\\ipywidgets\\widgets\\widget.py:650\u001b[0m, in \u001b[0;36mWidget.set_state\u001b[1;34m(self, sync_data)\u001b[0m\n\u001b[0;32m    645\u001b[0m         \u001b[38;5;28mself\u001b[39m\u001b[38;5;241m.\u001b[39m_send(msg, buffers\u001b[38;5;241m=\u001b[39mecho_buffers)\n\u001b[0;32m    647\u001b[0m \u001b[38;5;66;03m# The order of these context managers is important. Properties must\u001b[39;00m\n\u001b[0;32m    648\u001b[0m \u001b[38;5;66;03m# be locked when the hold_trait_notification context manager is\u001b[39;00m\n\u001b[0;32m    649\u001b[0m \u001b[38;5;66;03m# released and notifications are fired.\u001b[39;00m\n\u001b[1;32m--> 650\u001b[0m \u001b[38;5;28;01mwith\u001b[39;00m \u001b[38;5;28mself\u001b[39m\u001b[38;5;241m.\u001b[39m_lock_property(\u001b[38;5;241m*\u001b[39m\u001b[38;5;241m*\u001b[39msync_data), \u001b[38;5;28;43mself\u001b[39;49m\u001b[38;5;241;43m.\u001b[39;49m\u001b[43mhold_trait_notifications\u001b[49m\u001b[43m(\u001b[49m\u001b[43m)\u001b[49m:\n\u001b[0;32m    651\u001b[0m     \u001b[38;5;28;01mfor\u001b[39;00m name \u001b[38;5;129;01min\u001b[39;00m sync_data:\n\u001b[0;32m    652\u001b[0m         \u001b[38;5;28;01mif\u001b[39;00m name \u001b[38;5;129;01min\u001b[39;00m \u001b[38;5;28mself\u001b[39m\u001b[38;5;241m.\u001b[39mkeys:\n",
      "File \u001b[1;32mc:\\Users\\olerk\\AppData\\Local\\Programs\\Python\\Python312\\Lib\\contextlib.py:144\u001b[0m, in \u001b[0;36m_GeneratorContextManager.__exit__\u001b[1;34m(self, typ, value, traceback)\u001b[0m\n\u001b[0;32m    142\u001b[0m \u001b[38;5;28;01mif\u001b[39;00m typ \u001b[38;5;129;01mis\u001b[39;00m \u001b[38;5;28;01mNone\u001b[39;00m:\n\u001b[0;32m    143\u001b[0m     \u001b[38;5;28;01mtry\u001b[39;00m:\n\u001b[1;32m--> 144\u001b[0m         \u001b[38;5;28;43mnext\u001b[39;49m\u001b[43m(\u001b[49m\u001b[38;5;28;43mself\u001b[39;49m\u001b[38;5;241;43m.\u001b[39;49m\u001b[43mgen\u001b[49m\u001b[43m)\u001b[49m\n\u001b[0;32m    145\u001b[0m     \u001b[38;5;28;01mexcept\u001b[39;00m \u001b[38;5;167;01mStopIteration\u001b[39;00m:\n\u001b[0;32m    146\u001b[0m         \u001b[38;5;28;01mreturn\u001b[39;00m \u001b[38;5;28;01mFalse\u001b[39;00m\n",
      "File \u001b[1;32m~\\AppData\\Roaming\\Python\\Python312\\site-packages\\traitlets\\traitlets.py:1510\u001b[0m, in \u001b[0;36mHasTraits.hold_trait_notifications\u001b[1;34m(self)\u001b[0m\n\u001b[0;32m   1508\u001b[0m \u001b[38;5;28;01mfor\u001b[39;00m changes \u001b[38;5;129;01min\u001b[39;00m cache\u001b[38;5;241m.\u001b[39mvalues():\n\u001b[0;32m   1509\u001b[0m     \u001b[38;5;28;01mfor\u001b[39;00m change \u001b[38;5;129;01min\u001b[39;00m changes:\n\u001b[1;32m-> 1510\u001b[0m         \u001b[38;5;28;43mself\u001b[39;49m\u001b[38;5;241;43m.\u001b[39;49m\u001b[43mnotify_change\u001b[49m\u001b[43m(\u001b[49m\u001b[43mchange\u001b[49m\u001b[43m)\u001b[49m\n",
      "File \u001b[1;32mc:\\Users\\olerk\\AppData\\Local\\Programs\\Python\\Python312\\Lib\\site-packages\\ipywidgets\\widgets\\widget.py:701\u001b[0m, in \u001b[0;36mWidget.notify_change\u001b[1;34m(self, change)\u001b[0m\n\u001b[0;32m    698\u001b[0m     \u001b[38;5;28;01mif\u001b[39;00m name \u001b[38;5;129;01min\u001b[39;00m \u001b[38;5;28mself\u001b[39m\u001b[38;5;241m.\u001b[39mkeys \u001b[38;5;129;01mand\u001b[39;00m \u001b[38;5;28mself\u001b[39m\u001b[38;5;241m.\u001b[39m_should_send_property(name, \u001b[38;5;28mgetattr\u001b[39m(\u001b[38;5;28mself\u001b[39m, name)):\n\u001b[0;32m    699\u001b[0m         \u001b[38;5;66;03m# Send new state to front-end\u001b[39;00m\n\u001b[0;32m    700\u001b[0m         \u001b[38;5;28mself\u001b[39m\u001b[38;5;241m.\u001b[39msend_state(key\u001b[38;5;241m=\u001b[39mname)\n\u001b[1;32m--> 701\u001b[0m \u001b[38;5;28;43msuper\u001b[39;49m\u001b[43m(\u001b[49m\u001b[43m)\u001b[49m\u001b[38;5;241;43m.\u001b[39;49m\u001b[43mnotify_change\u001b[49m\u001b[43m(\u001b[49m\u001b[43mchange\u001b[49m\u001b[43m)\u001b[49m\n",
      "File \u001b[1;32m~\\AppData\\Roaming\\Python\\Python312\\site-packages\\traitlets\\traitlets.py:1525\u001b[0m, in \u001b[0;36mHasTraits.notify_change\u001b[1;34m(self, change)\u001b[0m\n\u001b[0;32m   1523\u001b[0m \u001b[38;5;28;01mdef\u001b[39;00m \u001b[38;5;21mnotify_change\u001b[39m(\u001b[38;5;28mself\u001b[39m, change: Bunch) \u001b[38;5;241m-\u001b[39m\u001b[38;5;241m>\u001b[39m \u001b[38;5;28;01mNone\u001b[39;00m:\n\u001b[0;32m   1524\u001b[0m \u001b[38;5;250m    \u001b[39m\u001b[38;5;124;03m\"\"\"Notify observers of a change event\"\"\"\u001b[39;00m\n\u001b[1;32m-> 1525\u001b[0m     \u001b[38;5;28;01mreturn\u001b[39;00m \u001b[38;5;28;43mself\u001b[39;49m\u001b[38;5;241;43m.\u001b[39;49m\u001b[43m_notify_observers\u001b[49m\u001b[43m(\u001b[49m\u001b[43mchange\u001b[49m\u001b[43m)\u001b[49m\n",
      "File \u001b[1;32m~\\AppData\\Roaming\\Python\\Python312\\site-packages\\traitlets\\traitlets.py:1568\u001b[0m, in \u001b[0;36mHasTraits._notify_observers\u001b[1;34m(self, event)\u001b[0m\n\u001b[0;32m   1565\u001b[0m \u001b[38;5;28;01melif\u001b[39;00m \u001b[38;5;28misinstance\u001b[39m(c, EventHandler) \u001b[38;5;129;01mand\u001b[39;00m c\u001b[38;5;241m.\u001b[39mname \u001b[38;5;129;01mis\u001b[39;00m \u001b[38;5;129;01mnot\u001b[39;00m \u001b[38;5;28;01mNone\u001b[39;00m:\n\u001b[0;32m   1566\u001b[0m     c \u001b[38;5;241m=\u001b[39m \u001b[38;5;28mgetattr\u001b[39m(\u001b[38;5;28mself\u001b[39m, c\u001b[38;5;241m.\u001b[39mname)\n\u001b[1;32m-> 1568\u001b[0m \u001b[43mc\u001b[49m\u001b[43m(\u001b[49m\u001b[43mevent\u001b[49m\u001b[43m)\u001b[49m\n",
      "Cell \u001b[1;32mIn[159], line 55\u001b[0m, in \u001b[0;36mVisualization.output.<locals>.update_plot\u001b[1;34m(change)\u001b[0m\n\u001b[0;32m     53\u001b[0m \u001b[38;5;28;01mdef\u001b[39;00m \u001b[38;5;21mupdate_plot\u001b[39m(change\u001b[38;5;241m=\u001b[39m\u001b[38;5;28;01mNone\u001b[39;00m):\n\u001b[0;32m     54\u001b[0m     output_area\u001b[38;5;241m.\u001b[39mclear_output()\n\u001b[1;32m---> 55\u001b[0m     f \u001b[38;5;241m=\u001b[39m \u001b[38;5;28;43meval\u001b[39;49m\u001b[43m(\u001b[49m\u001b[43mf_input\u001b[49m\u001b[38;5;241;43m.\u001b[39;49m\u001b[43mvalue\u001b[49m\u001b[43m)\u001b[49m\n\u001b[0;32m     56\u001b[0m     \u001b[38;5;28;01mwith\u001b[39;00m output_area:\n\u001b[0;32m     57\u001b[0m         \u001b[38;5;28;01mmatch\u001b[39;00m dropdown\u001b[38;5;241m.\u001b[39mvalue:\n",
      "File \u001b[1;32m<string>:1\u001b[0m\n",
      "\u001b[1;31mNameError\u001b[0m: name 'x' is not defined"
     ]
    },
    {
     "ename": "SyntaxError",
     "evalue": "invalid syntax (<string>, line 0)",
     "output_type": "error",
     "traceback": [
      "\u001b[1;36m  File \u001b[1;32m<string>\u001b[1;36m\u001b[0m\n\u001b[1;33m    \u001b[0m\n\u001b[1;37m    ^\u001b[0m\n\u001b[1;31mSyntaxError\u001b[0m\u001b[1;31m:\u001b[0m invalid syntax\n"
     ]
    }
   ],
   "source": [
    "Visualization.output(laguerre_object,integral,reversed_values)"
   ]
  }
 ],
 "metadata": {
  "kernelspec": {
   "display_name": "Python 3",
   "language": "python",
   "name": "python3"
  },
  "language_info": {
   "codemirror_mode": {
    "name": "ipython",
    "version": 3
   },
   "file_extension": ".py",
   "mimetype": "text/x-python",
   "name": "python",
   "nbconvert_exporter": "python",
   "pygments_lexer": "ipython3",
   "version": "3.12.6"
  }
 },
 "nbformat": 4,
 "nbformat_minor": 4
}
