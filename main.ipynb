{
 "cells": [
  {
   "cell_type": "code",
   "execution_count": 1,
   "metadata": {
    "editable": true,
    "slideshow": {
     "slide_type": ""
    },
    "tags": []
   },
   "outputs": [],
   "source": [
    "import numpy as np\n",
    "import pandas as pd\n",
    "import sympy as sp\n",
    "import unittest\n",
    "import matplotlib.pyplot as plt\n",
    "import ipywidgets as widgets"
   ]
  },
  {
   "cell_type": "code",
   "execution_count": 2,
   "metadata": {},
   "outputs": [],
   "source": [
    "class Laguerre:\n",
    "    def __init__(self, T, N, beta, sigma, epsilon, t_values):\n",
    "        self.T = T\n",
    "        self.N = N\n",
    "        self.beta = beta\n",
    "        self.sigma = sigma\n",
    "        self.epsilon = epsilon\n",
    "        self.t_values = t_values\n",
    "        self.alpha = self.sigma - self.beta\n",
    "    \n",
    "    \n",
    "    @property\n",
    "    def T(self):\n",
    "        return self._T\n",
    "    @T.setter\n",
    "    def T(self, T):\n",
    "        self._T = T\n",
    "        \n",
    "    @property\n",
    "    def N(self):\n",
    "        return self._N\n",
    "    @N.setter\n",
    "    def N(self, N):\n",
    "        self._N = N\n",
    "               \n",
    "    @property\n",
    "    def beta(self):\n",
    "        return self._beta\n",
    "    @beta.setter\n",
    "    def beta(self, beta):\n",
    "        self._beta = beta\n",
    "        \n",
    "    @property\n",
    "    def sigma(self):\n",
    "        return self._sigma\n",
    "    @sigma.setter\n",
    "    def sigma(self, sigma):\n",
    "        self._sigma = sigma        \n",
    "        \n",
    "    @property\n",
    "    def epsilon(self):\n",
    "        return self._epsilon\n",
    "    @epsilon.setter\n",
    "    def epsilon(self, epsilon):\n",
    "        self._epsilon = epsilon\n",
    "          \n",
    "    @property\n",
    "    def t_values(self):\n",
    "        return self._t_values\n",
    "    @t_values.setter\n",
    "    def t_values(self, t_values):\n",
    "        self._t_values = t_values\n",
    "        \n",
    "    def laguerre(self, n, t):\n",
    "        if (self.beta>=0) and (self.beta<=self.sigma):\n",
    "            if n==0:\n",
    "                return np.sqrt(self.sigma)*np.exp((-self.beta*t)/2)\n",
    "            elif n==1:\n",
    "                return np.sqrt(self.sigma)*(1-self.sigma*t)*np.exp((-self.beta*t)/2)\n",
    "            else:\n",
    "                l0=np.sqrt(self.sigma)*np.exp((-self.beta*t)/2)\n",
    "                l1=np.sqrt(self.sigma)*(1-self.sigma*t)*np.exp((-self.beta*t)/2)\n",
    "                for i in range(2, n+1):\n",
    "                    li=((2*i-1-self.sigma*t)/i)*l1 - ((i-1)/i)*l0\n",
    "                    l0, l1 = l1, li\n",
    "                return li\n",
    "\n",
    "        else:\n",
    "            raise ValueError(\"Wrong data input! Beta should be in range [0;sigma]!\")\n",
    "        \n",
    "    \n",
    "    def tabulate_laguerre(self): \n",
    "        laguerre_val = {\"t_val\": self.t_values}  \n",
    "        for n in range(self.N + 1):\n",
    "            laguerre_val[f\"L_{n}\"] = [self.laguerre(n, t) for t in self.t_values]\n",
    "        \n",
    "        return pd.DataFrame(laguerre_val)\n",
    "    \n",
    "        \n",
    "    def find_t_epsilon(self, n, epsilon=1e-3, max_T=100, steps=1000):\n",
    "        t_values = np.linspace(0, max_T, steps)\n",
    "        for t in t_values:\n",
    "            if all(np.abs(self.laguerre(i, t)) < epsilon for i in range(n)):\n",
    "                return t\n",
    "        raise ValueError(\"No value t\")"
   ]
  },
  {
   "cell_type": "code",
   "execution_count": 12,
   "metadata": {},
   "outputs": [
    {
     "name": "stdout",
     "output_type": "stream",
     "text": [
      "Коефіцієнти Лагерра: [np.float64(0.053983319630733266), np.float64(-0.01607073041241324), np.float64(-0.018595195481664262), np.float64(-0.01090237692197156), np.float64(-0.0051554645559359225), np.float64(-0.0021566591585600163), np.float64(-0.0008259950825643614), np.float64(-0.00029617203904814133), np.float64(-0.00010367707507298065), np.float64(-4.000112809196127e-05), np.float64(-2.1261202361348227e-05), np.float64(-1.6689390955699298e-05), np.float64(-1.6000543074154046e-05), np.float64(-1.6125081334668288e-05), np.float64(-1.6295891317719165e-05), np.float64(-1.6388728097758703e-05), np.float64(-1.6419949272879256e-05), np.float64(-1.6417839994875684e-05), np.float64(-1.640006663496434e-05), np.float64(-1.637522192315074e-05), np.float64(-1.6346957523715088e-05)]\n"
     ]
    }
   ],
   "source": [
    "import numpy as np\n",
    "\n",
    "# Функція Лагерра\n",
    "def laguerre_function(t, n, alpha=2, beta=4):\n",
    "    if n == 0:\n",
    "        return np.sqrt(beta) * np.exp(-beta * t)\n",
    "    elif n == 1:\n",
    "        return np.sqrt(beta) * (1 - beta * t) * np.exp(-beta * t)\n",
    "    else:\n",
    "        Ln_2 = np.sqrt(beta) * np.exp(-beta * t)  # L_0\n",
    "        Ln_1 = np.sqrt(beta) * (1 - beta * t) * np.exp(-beta * t)  # L_1\n",
    "        for i in range(2, n + 1):\n",
    "            Ln = ((2 * i - 1 - beta * t) * Ln_1 - (i - 1) * Ln_2) / i\n",
    "            Ln_2, Ln_1 = Ln_1, Ln\n",
    "        return Ln\n",
    "\n",
    "# Наближене обчислення інтегралів\n",
    "def laguerre_transform(f, n, alpha=2, beta=4, epsilon=1e-3, T=10):\n",
    "    k_values = []\n",
    "    for k in range(n + 1):\n",
    "        # Метод прямокутників\n",
    "        t_values = np.linspace(0, T, int(1 / epsilon))\n",
    "        integrand = f(t_values) * laguerre_function(t_values, k, alpha, beta) * np.exp(-alpha * t_values)\n",
    "        integral = np.sum(integrand) * (T / len(t_values))\n",
    "        k_values.append(integral)\n",
    "    return k_values\n",
    "\n",
    "# Тестова функція f\n",
    "def test_function(t):\n",
    "    return np.sin(t)\n",
    "\n",
    "# Обчислення для функції f при N=20\n",
    "N = 20\n",
    "coefficients = laguerre_transform(test_function, N)\n",
    "print(\"Коефіцієнти Лагерра:\", coefficients)\n"
   ]
  },
  {
   "cell_type": "code",
   "execution_count": null,
   "metadata": {},
   "outputs": [],
   "source": [
    "class IntegrateLaguerre(Laguerre):\n",
    "    def __init__(self, laguerre_object, max_steps=10000):\n",
    "        super().__init__(laguerre_object.T, laguerre_object.N, laguerre_object.beta, laguerre_object.sigma, laguerre_object.epsilon, laguerre_object.t_values)\n",
    "        self.max_steps = max_steps\n",
    "\n",
    "    def laguerre_transform(self, k, t_values):\n",
    "        return np.array([self.laguerre(k, t) for t in t_values])\n",
    "\n",
    "    def integrate(self, f, k):\n",
    "        steps = 10\n",
    "        prev_integral = 0\n",
    "        delta = float(\"inf\")\n",
    "    \n",
    "        while delta > self.epsilon:\n",
    "            t_values = np.linspace(0, self.T, steps + 1)\n",
    "            delta_t = self.T / steps\n",
    "        \n",
    "            lkt = self.laguerre_transform(k, t_values)\n",
    "            ft = np.array([f.subs(sp.symbols('t'), t) for t in t_values])\n",
    "\n",
    "            integrand = ft * lkt * np.exp(-1*self.alpha * t_values)\n",
    "            integral = np.sum(integrand * delta_t) \n",
    "        \n",
    "            delta = abs(integral - prev_integral)\n",
    "            prev_integral = integral\n",
    "        \n",
    "            steps *= 2\n",
    "            if steps > self.max_steps:\n",
    "                raise RuntimeError(\"Максимальна кількість кроків перевищена. Інтеграл не збігається.\")\n",
    "    \n",
    "        return prev_integral\n"
   ]
  },
  {
   "cell_type": "code",
   "execution_count": 4,
   "metadata": {},
   "outputs": [],
   "source": [
    "class ReverseLaguerre(Laguerre):\n",
    "    def __init__(self, laguerre_object, coefficients=None):\n",
    "        super().__init__(laguerre_object.T, laguerre_object.N, laguerre_object.beta, laguerre_object.sigma, laguerre_object.epsilon, laguerre_object.t_values)\n",
    "        self.coefficients = coefficients if coefficients is not None else []\n",
    "\n",
    "    @property\n",
    "    def coefficients(self):\n",
    "        return self._coefficients\n",
    "\n",
    "    @coefficients.setter\n",
    "    def coefficients(self, coefficients):\n",
    "        self._coefficients = coefficients\n",
    "\n",
    "    def laguerre_coefficients(self, integr_obj, f):\n",
    "        coeffs = []\n",
    "        for k in range(self.N + 1): \n",
    "            coeff = integr_obj.integrate(f, k)\n",
    "            coeffs.append(coeff)\n",
    "        self.coefficients = coeffs \n",
    "        return coeffs \n",
    "\n",
    "    def reverse_laguerre(self, t):\n",
    "        if len(self.coefficients) == 0:\n",
    "            raise ValueError(\"Coefficients are not computed\")\n",
    "        \n",
    "        result = 0\n",
    "        for k in range(len(self.coefficients)):\n",
    "            result += self.coefficients[k] * self.laguerre(k, t)\n",
    "        return result\n",
    "\n",
    "    def conditional_func(self, t_values=None):\n",
    "        if t_values is None:\n",
    "            t_values = np.linspace(0, self.T, 100)\n",
    "        return np.array([self.reverse_laguerre(t) for t in t_values])\n"
   ]
  },
  {
   "cell_type": "code",
   "execution_count": 5,
   "metadata": {},
   "outputs": [],
   "source": [
    "class TestLaguerre(unittest.TestCase):\n",
    "    def setUp(self):\n",
    "        self.t_values = np.linspace(0, 10, 100)\n",
    "        self.laguerre_object = Laguerre(T=5, N=3, beta=1, sigma=2, epsilon=1e-3, t_values=self.t_values)\n",
    "        self.integrate_object = IntegrateLaguerre(self.laguerre_object, max_steps=100000)\n",
    "        self.reverse_object = ReverseLaguerre(self.laguerre_object)\n",
    "        \n",
    "    def test_laguerre_invalid_beta(self):\n",
    "        \"\"\"Test that laguerre raises ValueError with invalid beta\"\"\"\n",
    "        self.laguerre_object.beta = -1\n",
    "        with self.assertRaises(ValueError):\n",
    "            self.laguerre_object.laguerre(1, 3)\n",
    "            \n",
    "    def test_laguerre_valid_params(self):\n",
    "        \"\"\"Test that laguerre calculation works with valid parameters\"\"\"\n",
    "        self.laguerre_object.beta = 1\n",
    "        self.laguerre_object.sigma = 2\n",
    "        l0 = self.laguerre_object.laguerre(0, 1)\n",
    "        self.assertIsNotNone(l0)\n",
    "        l1 = self.laguerre_object.laguerre(1, 1)\n",
    "        self.assertIsNotNone(l1)\n",
    "        l2 = self.laguerre_object.laguerre(2, 1)\n",
    "        self.assertIsNotNone(l2)\n",
    "    \n",
    "    def test_tabulate_laguerre(self):\n",
    "        \"\"\"Test tabulation of Laguerre polynomials\"\"\"\n",
    "        self.laguerre_object.beta = 1\n",
    "        self.laguerre_object.sigma = 2\n",
    "        table = self.laguerre_object.tabulate_laguerre()\n",
    "        self.assertIsInstance(table, pd.DataFrame)\n",
    "        self.assertEqual(len(table), len(self.t_values))\n",
    "        self.assertEqual(len(table.columns), self.laguerre_object.N + 2) \n",
    "    \n",
    "    def test_find_t_epsilon(self):\n",
    "        \"\"\"Test finding epsilon value\"\"\"\n",
    "        self.laguerre_object.beta = 0.5\n",
    "        self.laguerre_object.sigma = 5\n",
    "        try:\n",
    "            t_eps = self.laguerre_object.find_t_epsilon(2, epsilon=0.5, max_T=50)\n",
    "            self.assertGreater(t_eps, 0)\n",
    "        except ValueError:\n",
    "            t_eps = self.laguerre_object.find_t_epsilon(2, epsilon=10, max_T=50)\n",
    "            self.assertGreater(t_eps, 0)\n",
    "    \n",
    "    def test_integrate_function(self):\n",
    "        \"\"\"Test integration of a symbolic function\"\"\"\n",
    "        self.laguerre_object.beta = 1\n",
    "        self.laguerre_object.sigma = 2\n",
    "        t = sp.symbols('t')\n",
    "        test_func = 1 + t\n",
    "        result = self.integrate_object.integrate(test_func, 0)\n",
    "        self.assertIsNotNone(result)\n",
    "    \n",
    "    def test_laguerre_coefficients(self):\n",
    "        \"\"\"Test calculation of Laguerre coefficients\"\"\"\n",
    "        laguerre = Laguerre(T=5, N=2, beta=1, sigma=2, epsilon=1e-3, t_values=self.t_values)\n",
    "        integrate = IntegrateLaguerre(laguerre, max_steps=100000)\n",
    "        reverse = ReverseLaguerre(laguerre)\n",
    "        \n",
    "        t = sp.symbols('t')\n",
    "        test_func = 1 + t\n",
    "        coeffs = reverse.laguerre_coefficients(integrate, test_func)\n",
    "        self.assertEqual(len(coeffs), laguerre.N + 1)\n",
    "    \n",
    "    def test_reverse_laguerre_no_coeffs(self):\n",
    "        \"\"\"Test that reverse_laguerre raises ValueError when coefficients are empty\"\"\"\n",
    "        with self.assertRaises(ValueError):\n",
    "            self.reverse_object.reverse_laguerre(1)\n",
    "    \n",
    "    def test_reverse_laguerre_with_coeffs(self):\n",
    "        \"\"\"Test reverse Laguerre transform with coefficients\"\"\"\n",
    "        self.laguerre_object.N = 2\n",
    "        self.laguerre_object.beta = 1\n",
    "        self.laguerre_object.sigma = 2\n",
    "        t = sp.symbols('t')\n",
    "        test_func = 1 + t\n",
    "        self.reverse_object.coefficients = [1.0, 0.5, 0.25] \n",
    "        result = self.reverse_object.reverse_laguerre(1)\n",
    "        self.assertIsNotNone(result)\n",
    "    \n",
    "    def test_conditional_func(self):\n",
    "        \"\"\"Test conditional function calculation\"\"\"\n",
    "        self.laguerre_object.N = 2\n",
    "        self.laguerre_object.beta = 1\n",
    "        self.laguerre_object.sigma = 2\n",
    "        self.reverse_object.coefficients = [1.0, 0.5, 0.25]\n",
    "        results = self.reverse_object.conditional_func(t_values=np.linspace(0, 2, 10))\n",
    "        self.assertEqual(len(results), 10)\n"
   ]
  },
  {
   "cell_type": "code",
   "execution_count": 6,
   "metadata": {},
   "outputs": [
    {
     "name": "stderr",
     "output_type": "stream",
     "text": [
      ".........\n",
      "----------------------------------------------------------------------\n",
      "Ran 9 tests in 8.390s\n",
      "\n",
      "OK\n"
     ]
    },
    {
     "data": {
      "text/plain": [
       "<unittest.main.TestProgram at 0x190d300a1e0>"
      ]
     },
     "execution_count": 6,
     "metadata": {},
     "output_type": "execute_result"
    }
   ],
   "source": [
    "unittest.main(argv=[''], exit=False)"
   ]
  },
  {
   "cell_type": "code",
   "execution_count": 7,
   "metadata": {},
   "outputs": [],
   "source": [
    "def parse_function(f_str):\n",
    "    \"\"\"Парсер стрінга у функу\"\"\"\n",
    "    return sp.sympify(f_str)"
   ]
  },
  {
   "cell_type": "code",
   "execution_count": 8,
   "metadata": {},
   "outputs": [],
   "source": [
    "class Visualization:\n",
    "    @staticmethod\n",
    "    def plot_laguerre(laguerre_obj, n, t):\n",
    "        t_values = np.linspace(0, t, 100)\n",
    "        y_values = [laguerre_obj.laguerre(n, t_i) for t_i in t_values]\n",
    "        \n",
    "        plt.figure(figsize=(8, 5))\n",
    "        plt.plot(t_values, y_values, label=f'L_{n}(t)')\n",
    "        plt.xlabel('t')\n",
    "        plt.ylabel(f'L_{n}(t)')\n",
    "        plt.title('Laguerre Polynomial')\n",
    "        plt.legend()\n",
    "        plt.grid()\n",
    "        plt.show()\n",
    "    \n",
    "    @staticmethod\n",
    "    def tabulate_laguere(laguerre_obj, n):\n",
    "        df = laguerre_obj.tabulate_laguerre()\n",
    "        display(df)\n",
    "    \n",
    "    @staticmethod\n",
    "    def epsilon_vis(laguerre_obj, n):\n",
    "        return laguerre_obj.find_t_epsilon(n)\n",
    "\n",
    "    @staticmethod\n",
    "    def integrate_vis(integrate_obj, n, f):\n",
    "        return integrate_obj.integrate(f, n)\n",
    "\n",
    "    @staticmethod\n",
    "    def coef_vis(reverse_obj, integrate_obj, f):\n",
    "        coefficients = reverse_obj.laguerre_coefficients(integrate_obj, f)\n",
    "        print(\"Coefficients:\", coefficients)\n",
    "        return coefficients\n",
    "    \n",
    "    @staticmethod\n",
    "    def reverse_plot(reverse_obj, t_values):\n",
    "        if len(reverse_obj.coefficients) == 0:\n",
    "            raise ValueError(\"Coefficients are not computed\")\n",
    "        \n",
    "        y_values = [reverse_obj.reverse_laguerre(t) for t in t_values]\n",
    "        \n",
    "        plt.figure(figsize=(8, 5))\n",
    "        plt.plot(t_values, y_values, label='Reverse Laguerre Transform')\n",
    "        plt.xlabel('t')\n",
    "        plt.ylabel('f(t)')\n",
    "        plt.title('Reverse Laguerre Transform')\n",
    "        plt.legend()\n",
    "        plt.grid()\n",
    "        plt.show()\n",
    "    \n",
    "    @staticmethod\n",
    "    def output(laguerre_obj, integrate_obj, reverse_obj):\n",
    "        dropdown = widgets.Dropdown(\n",
    "            options=['plot_laguerre', 'tabulate_laguere', 'epsilon_vis', 'integrate_vis', 'coef_vis', 'reverse_plot'],\n",
    "            description='Виберіть дію:',\n",
    "        )\n",
    "\n",
    "        output_area = widgets.Output()\n",
    "        f_input = widgets.Text(value=\"sin(t)\", description=\"Функція:\")\n",
    "        n_slider = widgets.IntSlider(value=3, min=0, max = 20, description=\"n:\")\n",
    "        sigma_slider = widgets.IntSlider(value=4, min = 0, max = 10, description=\"sigma:\")\n",
    "        T_slider = widgets.IntSlider(value=5,min = 1, max = 20, step = 1, description=\"T:\")\n",
    "        N_slider = widgets.IntSlider(value=5, min = 0, max = 20, step = 1, description=\"N:\")\n",
    "        beta_slider = widgets.IntSlider(value=2, min = 0, max = 10, description=\"beta:\")\n",
    "        t_slider = widgets.FloatSlider(value=5, min=0, max=20, description=\"t:\")\n",
    "\n",
    "        def update_plot(change=None):\n",
    "            output_area.clear_output()\n",
    "            f = parse_function(f_input.value)\n",
    "            laguerre_obj.beta = beta_slider.value\n",
    "            laguerre_obj.sigma = sigma_slider.value\n",
    "            laguerre_obj.N = N_slider.value\n",
    "            laguerre_obj.t_values = np.linspace(0, T_slider.value, 100)\n",
    "            \n",
    "            integrate_obj.beta = beta_slider.value\n",
    "            integrate_obj.sigma = sigma_slider.value\n",
    "            integrate_obj.N = N_slider.value\n",
    "            integrate_obj.T = T_slider.value\n",
    "            \n",
    "            reverse_obj.beta = beta_slider.value\n",
    "            reverse_obj.sigma = sigma_slider.value    \n",
    "            reverse_obj.N = N_slider.value\n",
    "            \n",
    "            with output_area:\n",
    "                if dropdown.value == \"plot_laguerre\":\n",
    "                    Visualization.plot_laguerre(laguerre_obj, n_slider.value, t_slider.value)\n",
    "                elif dropdown.value == \"tabulate_laguere\":\n",
    "                    Visualization.tabulate_laguere(laguerre_obj, N_slider.value)\n",
    "                elif dropdown.value == \"epsilon_vis\":\n",
    "                    print(Visualization.epsilon_vis(laguerre_obj, n_slider.value))\n",
    "                elif dropdown.value == \"integrate_vis\":\n",
    "                    print(Visualization.integrate_vis(integrate_obj, n_slider.value, f))\n",
    "                elif dropdown.value == \"coef_vis\":\n",
    "                    Visualization.coef_vis(reverse_obj, integrate_obj, f)\n",
    "                elif dropdown.value == \"reverse_plot\":\n",
    "                    t_values = np.linspace(0, t_slider.value, 100)\n",
    "                    Visualization.reverse_plot(reverse_obj, t_values)\n",
    "                else:\n",
    "                    print(\"Choose option!\")\n",
    "\n",
    "        dropdown.observe(update_plot, names='value')\n",
    "        n_slider.observe(update_plot, names='value')\n",
    "        T_slider.observe(update_plot, names='value')\n",
    "        t_slider.observe(update_plot, names='value')\n",
    "        beta_slider.observe(update_plot, names='value')\n",
    "        sigma_slider.observe(update_plot, names='value')\n",
    "        f_input.observe(update_plot, names='value')\n",
    "        N_slider.observe(update_plot, names='value')\n",
    "\n",
    "        display(f_input, N_slider, T_slider, n_slider, t_slider, sigma_slider, beta_slider, dropdown, output_area)"
   ]
  },
  {
   "cell_type": "code",
   "execution_count": 9,
   "metadata": {},
   "outputs": [],
   "source": [
    "laguerre_object = Laguerre(0, 0, 0, 0, 10e3, np.linspace(0, 10, 100))\n",
    "integral = IntegrateLaguerre(laguerre_object)\n",
    "reversed_values = ReverseLaguerre(laguerre_object, [])"
   ]
  },
  {
   "cell_type": "code",
   "execution_count": null,
   "metadata": {},
   "outputs": [
    {
     "data": {
      "application/vnd.jupyter.widget-view+json": {
       "model_id": "d9315ecd837e4e1abc7041f7607005ad",
       "version_major": 2,
       "version_minor": 0
      },
      "text/plain": [
       "Text(value='sin(t)', description='Функція:')"
      ]
     },
     "metadata": {},
     "output_type": "display_data"
    },
    {
     "data": {
      "application/vnd.jupyter.widget-view+json": {
       "model_id": "dd0a344b393345ceb5cec301e8083f00",
       "version_major": 2,
       "version_minor": 0
      },
      "text/plain": [
       "IntSlider(value=5, description='N:', max=20)"
      ]
     },
     "metadata": {},
     "output_type": "display_data"
    },
    {
     "data": {
      "application/vnd.jupyter.widget-view+json": {
       "model_id": "509953795a9243f98b7ab51866e0f33f",
       "version_major": 2,
       "version_minor": 0
      },
      "text/plain": [
       "IntSlider(value=5, description='T:', max=20, min=1)"
      ]
     },
     "metadata": {},
     "output_type": "display_data"
    },
    {
     "data": {
      "application/vnd.jupyter.widget-view+json": {
       "model_id": "97ed84d2630b4734b32bba0bb5b644d4",
       "version_major": 2,
       "version_minor": 0
      },
      "text/plain": [
       "IntSlider(value=3, description='n:', max=20)"
      ]
     },
     "metadata": {},
     "output_type": "display_data"
    },
    {
     "data": {
      "application/vnd.jupyter.widget-view+json": {
       "model_id": "81bdf32e3d7346aa8cb0bacc0488bea8",
       "version_major": 2,
       "version_minor": 0
      },
      "text/plain": [
       "FloatSlider(value=5.0, description='t:', max=20.0)"
      ]
     },
     "metadata": {},
     "output_type": "display_data"
    },
    {
     "data": {
      "application/vnd.jupyter.widget-view+json": {
       "model_id": "0e88324e9e124108b0aa9c3366e56ac5",
       "version_major": 2,
       "version_minor": 0
      },
      "text/plain": [
       "IntSlider(value=4, description='sigma:', max=10)"
      ]
     },
     "metadata": {},
     "output_type": "display_data"
    },
    {
     "data": {
      "application/vnd.jupyter.widget-view+json": {
       "model_id": "d59c94379a9d47228371b9618c9762ee",
       "version_major": 2,
       "version_minor": 0
      },
      "text/plain": [
       "IntSlider(value=2, description='beta:', max=10)"
      ]
     },
     "metadata": {},
     "output_type": "display_data"
    },
    {
     "data": {
      "application/vnd.jupyter.widget-view+json": {
       "model_id": "259acad7919e451a836d6bc543495b0b",
       "version_major": 2,
       "version_minor": 0
      },
      "text/plain": [
       "Dropdown(description='Виберіть дію:', options=('plot_laguerre', 'tabulate_laguere', 'epsilon_vis', 'integrate_…"
      ]
     },
     "metadata": {},
     "output_type": "display_data"
    },
    {
     "data": {
      "application/vnd.jupyter.widget-view+json": {
       "model_id": "4cfa1cdb7e08472d9535d5d8b908b819",
       "version_major": 2,
       "version_minor": 0
      },
      "text/plain": [
       "Output()"
      ]
     },
     "metadata": {},
     "output_type": "display_data"
    }
   ],
   "source": [
    "Visualization.output(laguerre_object,integral,reversed_values)"
   ]
  }
 ],
 "metadata": {
  "kernelspec": {
   "display_name": "Python 3",
   "language": "python",
   "name": "python3"
  },
  "language_info": {
   "codemirror_mode": {
    "name": "ipython",
    "version": 3
   },
   "file_extension": ".py",
   "mimetype": "text/x-python",
   "name": "python",
   "nbconvert_exporter": "python",
   "pygments_lexer": "ipython3",
   "version": "3.12.3"
  }
 },
 "nbformat": 4,
 "nbformat_minor": 4
}
