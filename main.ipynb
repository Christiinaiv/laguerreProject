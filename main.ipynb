{
 "cells": [
  {
   "cell_type": "code",
   "execution_count": 326,
   "metadata": {
    "editable": true,
    "slideshow": {
     "slide_type": ""
    },
    "tags": []
   },
   "outputs": [],
   "source": [
    "import numpy as np\n",
    "import pandas as pd\n",
    "import sympy as sp\n",
    "import unittest\n",
    "import matplotlib.pyplot as plt\n",
    "import ipywidgets as widgets"
   ]
  },
  {
   "cell_type": "code",
   "execution_count": 327,
   "metadata": {},
   "outputs": [],
   "source": [
    "class Laguerre:\n",
    "    def __init__(self, T, N, beta, sigma, epsilon, t_values):\n",
    "        self.T = T\n",
    "        self.N = N\n",
    "        self.beta = beta\n",
    "        self.sigma = sigma\n",
    "        self.epsilon = epsilon\n",
    "        self.t_values = t_values\n",
    "        self.alpha = self.sigma - self.beta\n",
    "    \n",
    "    \n",
    "    @property\n",
    "    def T(self):\n",
    "        return self._T\n",
    "    @T.setter\n",
    "    def T(self, T):\n",
    "        self._T = T\n",
    "        \n",
    "    @property\n",
    "    def N(self):\n",
    "        return self._N\n",
    "    @N.setter\n",
    "    def N(self, N):\n",
    "        self._N = N\n",
    "               \n",
    "    @property\n",
    "    def beta(self):\n",
    "        return self._beta\n",
    "    @beta.setter\n",
    "    def beta(self, beta):\n",
    "        self._beta = beta\n",
    "        \n",
    "    @property\n",
    "    def sigma(self):\n",
    "        return self._sigma\n",
    "    @sigma.setter\n",
    "    def sigma(self, sigma):\n",
    "        self._sigma = sigma        \n",
    "        \n",
    "    @property\n",
    "    def epsilon(self):\n",
    "        return self._epsilon\n",
    "    @epsilon.setter\n",
    "    def epsilon(self, epsilon):\n",
    "        self._epsilon = epsilon\n",
    "          \n",
    "    @property\n",
    "    def t_values(self):\n",
    "        return self._t_values\n",
    "    @t_values.setter\n",
    "    def t_values(self, t_values):\n",
    "        self._t_values = t_values\n",
    "        \n",
    "    def laguerre(self, n, t):\n",
    "        if (self.beta>=0) and (self.beta<=self.sigma):\n",
    "            if n==0:\n",
    "                return np.sqrt(self.sigma)*np.exp((-self.beta*t)/2)\n",
    "            elif n==1:\n",
    "                return np.sqrt(self.sigma)*(1-self.sigma*t)*np.exp((-self.beta*t)/2)\n",
    "            else:\n",
    "                l0=np.sqrt(self.sigma)*np.exp((-self.beta*t)/2)\n",
    "                l1=np.sqrt(self.sigma)*(1-self.sigma*t)*np.exp((-self.beta*t)/2)\n",
    "                for i in range(2, n+1):\n",
    "                    li=((2*i-1-self.sigma*t)/i)*l1 - ((i-1)/i)*l0\n",
    "                    l0, l1 = l1, li\n",
    "                return li\n",
    "\n",
    "        else:\n",
    "            raise ValueError(\"Wrong data input! Beta should be in range [0;sigma]!\")\n",
    "        \n",
    "    \n",
    "    def tabulate_laguerre(self): \n",
    "        laguerre_val = {\"t_val\": self.t_values}  \n",
    "        for n in range(self.N + 1):\n",
    "            laguerre_val[f\"L_{n}\"] = [self.laguerre(n, t) for t in self.t_values]\n",
    "        \n",
    "        return pd.DataFrame(laguerre_val)\n",
    "    \n",
    "        \n",
    "    def find_t_epsilon(self, n, epsilon=1e-3, max_T=100, steps=1000):\n",
    "        t_values = np.linspace(0, max_T, steps)\n",
    "        for t in t_values:\n",
    "            if all(np.abs(self.laguerre(i, t)) < epsilon for i in range(n)):\n",
    "                return t\n",
    "        raise ValueError(\"No value t\")"
   ]
  },
  {
   "cell_type": "code",
   "execution_count": 328,
   "metadata": {},
   "outputs": [],
   "source": [
    "class Integrate(Laguerre):\n",
    "    def __init__(self, laguerre_object, max_steps=10000):\n",
    "        super().__init__(laguerre_object.T, laguerre_object.N, laguerre_object.beta, laguerre_object.sigma, laguerre_object.epsilon, laguerre_object.t_values)\n",
    "        self.max_steps = max_steps\n",
    "\n",
    "    def integrate_laguerre(self, f, k):\n",
    "        alpha = self.sigma - self.beta\n",
    "        steps = 10\n",
    "        prev_integral = 0\n",
    "        delta = float(\"inf\")\n",
    "    \n",
    "        while delta > self.epsilon:\n",
    "            t_values = np.linspace(0, self.T, steps + 1)\n",
    "            delta_t = self.T / steps\n",
    "        \n",
    "            # Ось тут виправлено\n",
    "            laguerre_values = np.array([self.laguerre(k, t) for t in t_values])\n",
    "            integrand = f(t_values) * laguerre_values * np.exp(-alpha * t_values)\n",
    "            integral = np.sum(integrand * delta_t) \n",
    "        \n",
    "            delta = abs(integral - prev_integral)\n",
    "            prev_integral = integral\n",
    "        \n",
    "            steps *= 2\n",
    "            if steps > self.max_steps:\n",
    "                raise RuntimeError(\"Максимальна кількість кроків перевищена. Інтеграл не збігається.\")\n",
    "    \n",
    "        return prev_integral\n"
   ]
  },
  {
   "cell_type": "code",
   "execution_count": 329,
   "metadata": {},
   "outputs": [],
   "source": [
    "class ReverseLaguerre(Laguerre):\n",
    "    def __init__(self, laguerre_object, coefficients=None):\n",
    "        super().__init__(laguerre_object.T, laguerre_object.N, laguerre_object.beta, laguerre_object.sigma, laguerre_object.epsilon, laguerre_object.t_values)\n",
    "        self.coefficients = coefficients if coefficients is not None else []\n",
    "\n",
    "    @property\n",
    "    def coefficients(self):\n",
    "        return self._coefficients\n",
    "\n",
    "    @coefficients.setter\n",
    "    def coefficients(self, coefficients):\n",
    "        self._coefficients = coefficients\n",
    "\n",
    "    def laguerre_coefficients(self, integr_obj, f):\n",
    "        coeffs = []\n",
    "        for k in range(self.N + 1): \n",
    "            coeff = integr_obj.integrate_laguerre(f, k)\n",
    "            coeffs.append(coeff)\n",
    "        self.coefficients = coeffs \n",
    "        return coeffs \n",
    "\n",
    "    def reverse_laguerre(self, t):\n",
    "        if len(self.coefficients) == 0:\n",
    "            raise ValueError(\"Coefficients are not computed\")\n",
    "        \n",
    "        result = 0\n",
    "        for k in range(len(self.coefficients)):\n",
    "            result += self.coefficients[k] * self.laguerre(k, t)\n",
    "        return result\n",
    "\n",
    "    def conditional_func(self, t_values=None):\n",
    "        if t_values is None:\n",
    "            t_values = np.linspace(0, self.T, 100)\n",
    "        return np.array([self.reverse_laguerre(t) for t in t_values])\n"
   ]
  },
  {
   "cell_type": "code",
   "execution_count": 330,
   "metadata": {},
   "outputs": [],
   "source": [
    "class TestLaguerre(unittest.TestCase):\n",
    "\tdef setUp(self):\n",
    "\t\tself.laguerre_object = Laguerre(10,20,-1,40,10e3,[1,2,3,4])\n",
    "\t\tself.integral = Integrate(self.laguerre_object, 0)\n",
    "\t\tself.reversed_values = ReverseLaguerre(self.laguerre_object, [])\n",
    "\n",
    "\tdef test_laguerre_main_function(self):\n",
    "\t\twith self.assertRaises(ValueError):\n",
    "\t\t\t\"\"\"Test with incorrect beta\"\"\"\n",
    "\t\t\tself.laguerre_object.laguerre(1,3)\n",
    "\n",
    "\tdef test_laguerre_rec_function(self):\n",
    "\t\t\"\"\"Not callable function (string type)\"\"\"\n",
    "\t\tself.laguerre_object.beta = 10\n",
    "\t\twith self.assertRaises(ValueError):\n",
    "\t\t\tself.integral.rect_integrate_laguerre(10, \"np.sin\")\n",
    "\n",
    "\tdef test_laguerre_trapez_function(self):\n",
    "\t\t\"\"\"Not callable function (string type)\"\"\"\n",
    "\t\twith self.assertRaises(ValueError):\n",
    "\t\t\tself.integral.rect_integrate_laguerre(10, \"np.sin\")\n",
    "\n",
    "\tdef test_laguerre_revers_coffs(self):\n",
    "\t\t\"\"\"Empty list of coefficients\"\"\"\n",
    "\t\twith self.assertRaises(ValueError):\n",
    "\t\t\tself.reversed_values.reverse_laguerre(self.integral, 10)\n",
    "\n",
    "\tdef test_is_equel_integrals(self):\n",
    "\t\tval1 = self.integral.rect_integrate_laguerre(10, np.sin)\n",
    "\t\tval2 = self.integral.trapez_integrate_laguerre(10, np.sin)\n",
    "\t\tself.assertEqual(val1, val2)\n"
   ]
  },
  {
   "cell_type": "code",
   "execution_count": 331,
   "metadata": {},
   "outputs": [],
   "source": [
    "#unittest.main(argv=[''], exit=False)"
   ]
  },
  {
   "cell_type": "code",
   "execution_count": 332,
   "metadata": {},
   "outputs": [],
   "source": [
    "class Visualization:\n",
    "    @staticmethod\n",
    "    def plot_laguerre(laguerre_obj, n, t):\n",
    "        t_values = np.linspace(0, t, 100)\n",
    "        y_values = [laguerre_obj.laguerre(n, t_i) for t_i in t_values]\n",
    "        \n",
    "        plt.figure(figsize=(8, 5))\n",
    "        plt.plot(t_values, y_values, label=f'L_{n}(t)')\n",
    "        plt.xlabel('t')\n",
    "        plt.ylabel(f'L_{n}(t)')\n",
    "        plt.title('Laguerre Polynomial')\n",
    "        plt.legend()\n",
    "        plt.grid()\n",
    "        plt.show()\n",
    "    \n",
    "    @staticmethod\n",
    "    def tabulate_laguere(laguerre_obj, n, T, steps=100):\n",
    "        t_values = np.linspace(0, T, steps)\n",
    "        results = {f'L_{i}': [laguerre_obj.laguerre(i, t) for t in t_values] for i in range(n)}\n",
    "        results['t'] = t_values\n",
    "        df = pd.DataFrame(results)\n",
    "        display(df)\n",
    "    \n",
    "    @staticmethod\n",
    "    def epsilon_vis(laguerre_obj, n):\n",
    "        return laguerre_obj.find_t_epsilon(n)\n",
    "\n",
    "    @staticmethod\n",
    "    def integrate_vis(integrate_obj, n, f):\n",
    "        return integrate_obj.integrate_laguerre(f, n)\n",
    "\n",
    "    @staticmethod\n",
    "    def coef_vis(reverse_obj, integrate_obj, f):\n",
    "        coefficients = reverse_obj.laguerre_coefficients(integrate_obj, f)\n",
    "        print(\"Coefficients:\", coefficients)\n",
    "        return coefficients\n",
    "    \n",
    "    @staticmethod\n",
    "    def reverse_plot(reverse_obj, t_values):\n",
    "        if len(reverse_obj.coefficients) == 0:\n",
    "            raise ValueError(\"Coefficients are not computed\")\n",
    "        \n",
    "        y_values = [reverse_obj.reverse_laguerre(t) for t in t_values]\n",
    "        \n",
    "        plt.figure(figsize=(8, 5))\n",
    "        plt.plot(t_values, y_values, label='Reverse Laguerre Transform')\n",
    "        plt.xlabel('t')\n",
    "        plt.ylabel('f(t)')\n",
    "        plt.title('Reverse Laguerre Transform')\n",
    "        plt.legend()\n",
    "        plt.grid()\n",
    "        plt.show()\n",
    "    \n",
    "    @staticmethod\n",
    "    def output(laguerre_obj, integrate_obj, reverse_obj):\n",
    "        dropdown = widgets.Dropdown(\n",
    "            options=['plot_laguerre', 'tabulate_laguere', 'epsilon_vis', 'integrate_vis', 'coef_vis', 'reverse_plot'],\n",
    "            description='Виберіть дію:',\n",
    "        )\n",
    "\n",
    "        output_area = widgets.Output()\n",
    "        f_input = widgets.Text(value=\"np.sin\", description=\"Функція:\")\n",
    "        n_slider = widgets.IntSlider(value=3, min=1, max=10, description=\"n:\")\n",
    "        t_slider = widgets.FloatSlider(value=5, min=0, max=20, description=\"t:\")\n",
    "\n",
    "        def update_plot(change=None):\n",
    "            output_area.clear_output()\n",
    "            f = eval(f_input.value)\n",
    "            with output_area:\n",
    "                if dropdown.value == \"plot_laguerre\":\n",
    "                    Visualization.plot_laguerre(laguerre_obj, n_slider.value, t_slider.value)\n",
    "                elif dropdown.value == \"tabulate_laguere\":\n",
    "                    Visualization.tabulate_laguere(laguerre_obj, n_slider.value, t_slider.value)\n",
    "                elif dropdown.value == \"epsilon_vis\":\n",
    "                    print(Visualization.epsilon_vis(laguerre_obj, n_slider.value))\n",
    "                elif dropdown.value == \"integrate_vis\":\n",
    "                    print(Visualization.integrate_vis(integrate_obj, n_slider.value, f))\n",
    "                elif dropdown.value == \"coef_vis\":\n",
    "                    Visualization.coef_vis(reverse_obj, integrate_obj, f)\n",
    "                elif dropdown.value == \"reverse_plot\":\n",
    "                    t_values = np.linspace(0, t_slider.value, 100)\n",
    "                    Visualization.reverse_plot(reverse_obj, t_values)\n",
    "                else:\n",
    "                    print(\"Choose option!\")\n",
    "\n",
    "        dropdown.observe(update_plot, names='value')\n",
    "        n_slider.observe(update_plot, names='value')\n",
    "        t_slider.observe(update_plot, names='value')\n",
    "        f_input.observe(update_plot, names='value')\n",
    "\n",
    "        display(f_input, n_slider, t_slider, dropdown, output_area)"
   ]
  },
  {
   "cell_type": "code",
   "execution_count": 333,
   "metadata": {},
   "outputs": [],
   "source": [
    "laguerre_object = Laguerre(10, 20, 2, 40, 10e3, [110, 220, 350, 13900])\n",
    "integral = Integrate(laguerre_object)\n",
    "reversed_values = ReverseLaguerre(laguerre_object, [])"
   ]
  },
  {
   "cell_type": "code",
   "execution_count": 334,
   "metadata": {},
   "outputs": [
    {
     "data": {
      "application/vnd.jupyter.widget-view+json": {
       "model_id": "6c9fb61f7f104ad9809037f61f111a1b",
       "version_major": 2,
       "version_minor": 0
      },
      "text/plain": [
       "Text(value='np.sin', description='Функція:')"
      ]
     },
     "metadata": {},
     "output_type": "display_data"
    },
    {
     "data": {
      "application/vnd.jupyter.widget-view+json": {
       "model_id": "bee8157340054c54abe25b18529bf9eb",
       "version_major": 2,
       "version_minor": 0
      },
      "text/plain": [
       "IntSlider(value=3, description='n:', max=10, min=1)"
      ]
     },
     "metadata": {},
     "output_type": "display_data"
    },
    {
     "data": {
      "application/vnd.jupyter.widget-view+json": {
       "model_id": "a01c73ea235d448db0999dbb4a9759b1",
       "version_major": 2,
       "version_minor": 0
      },
      "text/plain": [
       "FloatSlider(value=5.0, description='t:', max=20.0)"
      ]
     },
     "metadata": {},
     "output_type": "display_data"
    },
    {
     "data": {
      "application/vnd.jupyter.widget-view+json": {
       "model_id": "46ab2c9438864e068cae1663090a72ce",
       "version_major": 2,
       "version_minor": 0
      },
      "text/plain": [
       "Dropdown(description='Виберіть дію:', options=('plot_laguerre', 'tabulate_laguere', 'epsilon_vis', 'integrate_…"
      ]
     },
     "metadata": {},
     "output_type": "display_data"
    },
    {
     "data": {
      "application/vnd.jupyter.widget-view+json": {
       "model_id": "e0fa78ca39f64e0eab4e0b144e8135c1",
       "version_major": 2,
       "version_minor": 0
      },
      "text/plain": [
       "Output()"
      ]
     },
     "metadata": {},
     "output_type": "display_data"
    }
   ],
   "source": [
    "Visualization.output(laguerre_object,integral,reversed_values)"
   ]
  }
 ],
 "metadata": {
  "kernelspec": {
   "display_name": "Python 3",
   "language": "python",
   "name": "python3"
  },
  "language_info": {
   "codemirror_mode": {
    "name": "ipython",
    "version": 3
   },
   "file_extension": ".py",
   "mimetype": "text/x-python",
   "name": "python",
   "nbconvert_exporter": "python",
   "pygments_lexer": "ipython3",
   "version": "3.12.6"
  }
 },
 "nbformat": 4,
 "nbformat_minor": 4
}
